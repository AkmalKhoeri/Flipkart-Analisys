{
 "cells": [
  {
   "cell_type": "markdown",
   "id": "9033123a",
   "metadata": {},
   "source": [
    "### Flipkart Mobile phone dataset merupakan dataset brand mobile phone dari india yang diambil dari kaggle. Berikut adalah beberapa informasi tentang kolom pada dataset ini.\n",
    "1. Brand = Nama brand mobile phone\n",
    "2. Model = Model/tipe mobile phone\n",
    "3. Color = Warna mobile phone\n",
    "4. Memory = Kapasitas memory yang dimiliki mobile phone\n",
    "5. Storage = Kapasitas penyimpanan yang dimiliki mobile phone\n",
    "6. Rating = Penilaian untuk mobile phone\n",
    "7. Selling Price = Harga jual setelah dipotong diskon\n",
    "8. Original Price = Harga jual sebelum dipotong diskon"
   ]
  },
  {
   "cell_type": "code",
   "execution_count": 33,
   "id": "9b9581e1",
   "metadata": {},
   "outputs": [],
   "source": [
    "#Import Library\n",
    "import pandas as pd\n",
    "import seaborn as sns\n",
    "import matplotlib.pyplot as plt\n",
    "import numpy as np"
   ]
  },
  {
   "cell_type": "code",
   "execution_count": 72,
   "id": "a85b7fc2",
   "metadata": {},
   "outputs": [
    {
     "name": "stdout",
     "output_type": "stream",
     "text": [
      "<class 'pandas.core.frame.DataFrame'>\n",
      "RangeIndex: 3114 entries, 0 to 3113\n",
      "Data columns (total 8 columns):\n",
      " #   Column          Non-Null Count  Dtype  \n",
      "---  ------          --------------  -----  \n",
      " 0   Brand           3114 non-null   object \n",
      " 1   Model           3114 non-null   object \n",
      " 2   Color           3114 non-null   object \n",
      " 3   Memory          3071 non-null   object \n",
      " 4   Storage         3075 non-null   object \n",
      " 5   Rating          2970 non-null   float64\n",
      " 6   Selling Price   3114 non-null   int64  \n",
      " 7   Original Price  3114 non-null   int64  \n",
      "dtypes: float64(1), int64(2), object(5)\n",
      "memory usage: 194.8+ KB\n"
     ]
    }
   ],
   "source": [
    "#membaca dataset\n",
    "df = pd.read_csv('Flipkart_mobiles.csv')\n",
    "df.info()"
   ]
  },
  {
   "cell_type": "code",
   "execution_count": 73,
   "id": "6cdd40a8",
   "metadata": {},
   "outputs": [
    {
     "data": {
      "text/html": [
       "<div>\n",
       "<style scoped>\n",
       "    .dataframe tbody tr th:only-of-type {\n",
       "        vertical-align: middle;\n",
       "    }\n",
       "\n",
       "    .dataframe tbody tr th {\n",
       "        vertical-align: top;\n",
       "    }\n",
       "\n",
       "    .dataframe thead th {\n",
       "        text-align: right;\n",
       "    }\n",
       "</style>\n",
       "<table border=\"1\" class=\"dataframe\">\n",
       "  <thead>\n",
       "    <tr style=\"text-align: right;\">\n",
       "      <th></th>\n",
       "      <th>Brand</th>\n",
       "      <th>Model</th>\n",
       "      <th>Color</th>\n",
       "      <th>Memory</th>\n",
       "      <th>Storage</th>\n",
       "      <th>Rating</th>\n",
       "      <th>Selling Price</th>\n",
       "      <th>Original Price</th>\n",
       "    </tr>\n",
       "  </thead>\n",
       "  <tbody>\n",
       "    <tr>\n",
       "      <th>0</th>\n",
       "      <td>OPPO</td>\n",
       "      <td>A53</td>\n",
       "      <td>Moonlight Black</td>\n",
       "      <td>4 GB</td>\n",
       "      <td>64 GB</td>\n",
       "      <td>4.5</td>\n",
       "      <td>11990</td>\n",
       "      <td>15990</td>\n",
       "    </tr>\n",
       "    <tr>\n",
       "      <th>1</th>\n",
       "      <td>OPPO</td>\n",
       "      <td>A53</td>\n",
       "      <td>Mint Cream</td>\n",
       "      <td>4 GB</td>\n",
       "      <td>64 GB</td>\n",
       "      <td>4.5</td>\n",
       "      <td>11990</td>\n",
       "      <td>15990</td>\n",
       "    </tr>\n",
       "    <tr>\n",
       "      <th>2</th>\n",
       "      <td>OPPO</td>\n",
       "      <td>A53</td>\n",
       "      <td>Moonlight Black</td>\n",
       "      <td>6 GB</td>\n",
       "      <td>128 GB</td>\n",
       "      <td>4.3</td>\n",
       "      <td>13990</td>\n",
       "      <td>17990</td>\n",
       "    </tr>\n",
       "    <tr>\n",
       "      <th>3</th>\n",
       "      <td>OPPO</td>\n",
       "      <td>A53</td>\n",
       "      <td>Mint Cream</td>\n",
       "      <td>6 GB</td>\n",
       "      <td>128 GB</td>\n",
       "      <td>4.3</td>\n",
       "      <td>13990</td>\n",
       "      <td>17990</td>\n",
       "    </tr>\n",
       "    <tr>\n",
       "      <th>4</th>\n",
       "      <td>OPPO</td>\n",
       "      <td>A53</td>\n",
       "      <td>Electric Black</td>\n",
       "      <td>4 GB</td>\n",
       "      <td>64 GB</td>\n",
       "      <td>4.5</td>\n",
       "      <td>11990</td>\n",
       "      <td>15990</td>\n",
       "    </tr>\n",
       "  </tbody>\n",
       "</table>\n",
       "</div>"
      ],
      "text/plain": [
       "  Brand Model            Color Memory Storage  Rating  Selling Price  \\\n",
       "0  OPPO   A53  Moonlight Black   4 GB   64 GB     4.5          11990   \n",
       "1  OPPO   A53       Mint Cream   4 GB   64 GB     4.5          11990   \n",
       "2  OPPO   A53  Moonlight Black   6 GB  128 GB     4.3          13990   \n",
       "3  OPPO   A53       Mint Cream   6 GB  128 GB     4.3          13990   \n",
       "4  OPPO   A53   Electric Black   4 GB   64 GB     4.5          11990   \n",
       "\n",
       "   Original Price  \n",
       "0           15990  \n",
       "1           15990  \n",
       "2           17990  \n",
       "3           17990  \n",
       "4           15990  "
      ]
     },
     "execution_count": 73,
     "metadata": {},
     "output_type": "execute_result"
    }
   ],
   "source": [
    "df.head()"
   ]
  },
  {
   "cell_type": "markdown",
   "id": "6bdd6c22",
   "metadata": {},
   "source": [
    "#### Handling Missing Values"
   ]
  },
  {
   "cell_type": "code",
   "execution_count": 74,
   "id": "c9f84106",
   "metadata": {
    "scrolled": true
   },
   "outputs": [
    {
     "data": {
      "text/plain": [
       "Brand               0\n",
       "Model               0\n",
       "Color               0\n",
       "Memory             43\n",
       "Storage            39\n",
       "Rating            144\n",
       "Selling Price       0\n",
       "Original Price      0\n",
       "dtype: int64"
      ]
     },
     "execution_count": 74,
     "metadata": {},
     "output_type": "execute_result"
    }
   ],
   "source": [
    "#Melihat apakah ada data missing value\n",
    "df.isnull().sum()"
   ]
  },
  {
   "cell_type": "markdown",
   "id": "40c6b6a7",
   "metadata": {},
   "source": [
    "#### Kolom Memory, Storage, dan Ratting memiliki missing value sehingga perlu diberi tindakan"
   ]
  },
  {
   "cell_type": "code",
   "execution_count": 75,
   "id": "861dd2dc",
   "metadata": {},
   "outputs": [
    {
     "data": {
      "text/html": [
       "<div>\n",
       "<style scoped>\n",
       "    .dataframe tbody tr th:only-of-type {\n",
       "        vertical-align: middle;\n",
       "    }\n",
       "\n",
       "    .dataframe tbody tr th {\n",
       "        vertical-align: top;\n",
       "    }\n",
       "\n",
       "    .dataframe thead th {\n",
       "        text-align: right;\n",
       "    }\n",
       "</style>\n",
       "<table border=\"1\" class=\"dataframe\">\n",
       "  <thead>\n",
       "    <tr style=\"text-align: right;\">\n",
       "      <th></th>\n",
       "      <th>Brand</th>\n",
       "      <th>Model</th>\n",
       "      <th>Color</th>\n",
       "      <th>Memory</th>\n",
       "      <th>Storage</th>\n",
       "      <th>Rating</th>\n",
       "      <th>Selling Price</th>\n",
       "      <th>Original Price</th>\n",
       "    </tr>\n",
       "  </thead>\n",
       "  <tbody>\n",
       "    <tr>\n",
       "      <th>996</th>\n",
       "      <td>Nokia</td>\n",
       "      <td>106</td>\n",
       "      <td>Black</td>\n",
       "      <td>NaN</td>\n",
       "      <td>2 MB</td>\n",
       "      <td>3.9</td>\n",
       "      <td>1400</td>\n",
       "      <td>1400</td>\n",
       "    </tr>\n",
       "    <tr>\n",
       "      <th>1073</th>\n",
       "      <td>Nokia</td>\n",
       "      <td>106</td>\n",
       "      <td>Black</td>\n",
       "      <td>NaN</td>\n",
       "      <td>2 MB</td>\n",
       "      <td>3.9</td>\n",
       "      <td>1519</td>\n",
       "      <td>1519</td>\n",
       "    </tr>\n",
       "    <tr>\n",
       "      <th>1094</th>\n",
       "      <td>Nokia</td>\n",
       "      <td>225</td>\n",
       "      <td>Black</td>\n",
       "      <td>NaN</td>\n",
       "      <td>Expandable Upto 32 GB</td>\n",
       "      <td>3.6</td>\n",
       "      <td>3499</td>\n",
       "      <td>3499</td>\n",
       "    </tr>\n",
       "    <tr>\n",
       "      <th>1095</th>\n",
       "      <td>Nokia</td>\n",
       "      <td>225</td>\n",
       "      <td>Black</td>\n",
       "      <td>NaN</td>\n",
       "      <td>Expandable Upto 32 GB</td>\n",
       "      <td>3.6</td>\n",
       "      <td>3499</td>\n",
       "      <td>3499</td>\n",
       "    </tr>\n",
       "    <tr>\n",
       "      <th>1165</th>\n",
       "      <td>Apple</td>\n",
       "      <td>iPhone 12 Pro Max</td>\n",
       "      <td>Silver</td>\n",
       "      <td>NaN</td>\n",
       "      <td>512 GB</td>\n",
       "      <td>4.6</td>\n",
       "      <td>149900</td>\n",
       "      <td>149900</td>\n",
       "    </tr>\n",
       "  </tbody>\n",
       "</table>\n",
       "</div>"
      ],
      "text/plain": [
       "      Brand               Model   Color Memory                Storage  Rating  \\\n",
       "996   Nokia                 106   Black    NaN                   2 MB     3.9   \n",
       "1073  Nokia                 106   Black    NaN                   2 MB     3.9   \n",
       "1094  Nokia                 225   Black    NaN  Expandable Upto 32 GB     3.6   \n",
       "1095  Nokia                 225   Black    NaN  Expandable Upto 32 GB     3.6   \n",
       "1165  Apple  iPhone 12 Pro Max   Silver    NaN                 512 GB     4.6   \n",
       "\n",
       "      Selling Price  Original Price  \n",
       "996            1400            1400  \n",
       "1073           1519            1519  \n",
       "1094           3499            3499  \n",
       "1095           3499            3499  \n",
       "1165         149900          149900  "
      ]
     },
     "execution_count": 75,
     "metadata": {},
     "output_type": "execute_result"
    }
   ],
   "source": [
    "# Melihat missing value dari kolom memory\n",
    "df[df['Memory'].isnull()].head()"
   ]
  },
  {
   "cell_type": "markdown",
   "id": "76477495",
   "metadata": {},
   "source": [
    "#### Salah satu baris yang memiliki kolom missing value pada kolom memory adalah baris dengan brand nokia model 106. Mari kita lihat bagaiman keseluruhan data dengan brand nokia model 106."
   ]
  },
  {
   "cell_type": "code",
   "execution_count": 76,
   "id": "374f6c75",
   "metadata": {},
   "outputs": [
    {
     "data": {
      "text/html": [
       "<div>\n",
       "<style scoped>\n",
       "    .dataframe tbody tr th:only-of-type {\n",
       "        vertical-align: middle;\n",
       "    }\n",
       "\n",
       "    .dataframe tbody tr th {\n",
       "        vertical-align: top;\n",
       "    }\n",
       "\n",
       "    .dataframe thead th {\n",
       "        text-align: right;\n",
       "    }\n",
       "</style>\n",
       "<table border=\"1\" class=\"dataframe\">\n",
       "  <thead>\n",
       "    <tr style=\"text-align: right;\">\n",
       "      <th></th>\n",
       "      <th>Brand</th>\n",
       "      <th>Model</th>\n",
       "      <th>Color</th>\n",
       "      <th>Memory</th>\n",
       "      <th>Storage</th>\n",
       "      <th>Rating</th>\n",
       "      <th>Selling Price</th>\n",
       "      <th>Original Price</th>\n",
       "    </tr>\n",
       "  </thead>\n",
       "  <tbody>\n",
       "    <tr>\n",
       "      <th>996</th>\n",
       "      <td>Nokia</td>\n",
       "      <td>106</td>\n",
       "      <td>Black</td>\n",
       "      <td>NaN</td>\n",
       "      <td>2 MB</td>\n",
       "      <td>3.9</td>\n",
       "      <td>1400</td>\n",
       "      <td>1400</td>\n",
       "    </tr>\n",
       "    <tr>\n",
       "      <th>1028</th>\n",
       "      <td>Nokia</td>\n",
       "      <td>106</td>\n",
       "      <td>Black</td>\n",
       "      <td>4 MB</td>\n",
       "      <td>4 MB</td>\n",
       "      <td>4.2</td>\n",
       "      <td>1560</td>\n",
       "      <td>1560</td>\n",
       "    </tr>\n",
       "    <tr>\n",
       "      <th>1073</th>\n",
       "      <td>Nokia</td>\n",
       "      <td>106</td>\n",
       "      <td>Black</td>\n",
       "      <td>NaN</td>\n",
       "      <td>2 MB</td>\n",
       "      <td>3.9</td>\n",
       "      <td>1519</td>\n",
       "      <td>1519</td>\n",
       "    </tr>\n",
       "  </tbody>\n",
       "</table>\n",
       "</div>"
      ],
      "text/plain": [
       "      Brand Model  Color Memory Storage  Rating  Selling Price  Original Price\n",
       "996   Nokia   106  Black    NaN    2 MB     3.9           1400            1400\n",
       "1028  Nokia   106  Black   4 MB    4 MB     4.2           1560            1560\n",
       "1073  Nokia   106  Black    NaN    2 MB     3.9           1519            1519"
      ]
     },
     "execution_count": 76,
     "metadata": {},
     "output_type": "execute_result"
    }
   ],
   "source": [
    "## Melihat data dengan model 106\n",
    "df[df['Model']=='106']"
   ]
  },
  {
   "cell_type": "markdown",
   "id": "351a658c",
   "metadata": {},
   "source": [
    "#### Dapat dilihat bahwa pada model 106 dari brand nokia memiliki nilai kolom memory yang tidak null. Sehingga data ini bisa dijadikan acuan untuk mengisi missing value pada brand nokia model 106. Begit juga untuk setiap missing value pada kolom memory."
   ]
  },
  {
   "cell_type": "code",
   "execution_count": 77,
   "id": "0c792b12",
   "metadata": {},
   "outputs": [
    {
     "data": {
      "text/plain": [
       "31"
      ]
     },
     "execution_count": 77,
     "metadata": {},
     "output_type": "execute_result"
    }
   ],
   "source": [
    "#Identifikasi baris-baris dengan nilai kosong pada kolom 'memory'\n",
    "rows_with_nan = df[df['Memory'].isnull()]\n",
    "\n",
    "#Cari baris dengan nilai yang sama pada kolom 'brand' dan 'tipe'\n",
    "for index, row in rows_with_nan.iterrows():\n",
    "    brand_type_match = df[\n",
    "        (df['Brand'] == row['Brand']) & (df['Model'] == row['Model']) & (df['Color'] == row['Color']) & ~df['Memory'].isnull()\n",
    "    ]\n",
    "    if not brand_type_match.empty:\n",
    "        #Isi nilai kosong pada kolom 'memory' dengan nilai yang sesuai\n",
    "        df.at[index, 'Memory'] = brand_type_match['Memory'].iloc[0]\n",
    "df['Memory'].isnull().sum()"
   ]
  },
  {
   "cell_type": "markdown",
   "id": "8df0d68f",
   "metadata": {},
   "source": [
    "#### Ternyata masih ada missing value pada kolom memory dengan jumlah 31 dari 3114 data. Jumlah ini sangat kecil sehingga missing value ini perlu kita drop."
   ]
  },
  {
   "cell_type": "code",
   "execution_count": 78,
   "id": "565e75ca",
   "metadata": {},
   "outputs": [],
   "source": [
    "#Drop Missing Value\n",
    "df.dropna(subset=['Memory'], inplace=True)"
   ]
  },
  {
   "cell_type": "markdown",
   "id": "b56cad12",
   "metadata": {},
   "source": [
    "#### Missing value pada kolom memory juga diperlakukan sama dengan missing value pada kolom memory."
   ]
  },
  {
   "cell_type": "code",
   "execution_count": 79,
   "id": "a28a68c9",
   "metadata": {},
   "outputs": [
    {
     "data": {
      "text/plain": [
       "0"
      ]
     },
     "execution_count": 79,
     "metadata": {},
     "output_type": "execute_result"
    }
   ],
   "source": [
    "#dentifikasi baris-baris dengan nilai kosong pada kolom 'Storage'\n",
    "rows_with_nan = df[df['Storage'].isnull()]\n",
    "\n",
    "#Cari baris dengan nilai yang sama pada kolom 'brand' dan 'tipe'\n",
    "for index, row in rows_with_nan.iterrows():\n",
    "    brand_type_match = df[\n",
    "        (df['Brand'] == row['Brand']) & (df['Model'] == row['Model']) & (df['Color'] == row['Color']) & ~df['Storage'].isnull()\n",
    "    ]\n",
    "    if not brand_type_match.empty:\n",
    "        #Isi nilai kosong pada kolom 'Storage' dengan nilai yang sesuai\n",
    "        df.at[index, 'Storage'] = brand_type_match['Storage'].iloc[0]\n",
    "df['Storage'].isnull().sum()"
   ]
  },
  {
   "cell_type": "markdown",
   "id": "a162151e",
   "metadata": {},
   "source": [
    "#### Sementara missing value pada kolom ratting akan diisi dengan nilai median dari kolom ratting. hal ini dikarenakan distribusi rattingnya condong ke kanan. "
   ]
  },
  {
   "cell_type": "code",
   "execution_count": 80,
   "id": "17d93504",
   "metadata": {},
   "outputs": [
    {
     "data": {
      "image/png": "[encoded data removed]",
      "text/plain": [
       "<Figure size 432x288 with 1 Axes>"
      ]
     },
     "metadata": {
      "needs_background": "light"
     },
     "output_type": "display_data"
    }
   ],
   "source": [
    "sns.histplot(df['Rating'], kde=True)\n",
    "plt.xlabel('Rating')\n",
    "plt.ylabel('Frequency')\n",
    "plt.title('Distribution of Exam Scores')\n",
    "plt.show()"
   ]
  },
  {
   "cell_type": "code",
   "execution_count": 81,
   "id": "fc1466f7",
   "metadata": {},
   "outputs": [],
   "source": [
    "# Mengisi missing value kolom ratting dengan median kolom tersebut\n",
    "df['Rating'] = df['Rating'].fillna(df['Rating'].median())"
   ]
  },
  {
   "cell_type": "code",
   "execution_count": 82,
   "id": "c5c469d0",
   "metadata": {},
   "outputs": [
    {
     "data": {
      "text/plain": [
       "Brand             0\n",
       "Model             0\n",
       "Color             0\n",
       "Memory            0\n",
       "Storage           0\n",
       "Rating            0\n",
       "Selling Price     0\n",
       "Original Price    0\n",
       "dtype: int64"
      ]
     },
     "execution_count": 82,
     "metadata": {},
     "output_type": "execute_result"
    }
   ],
   "source": [
    "df.isnull().sum()"
   ]
  },
  {
   "cell_type": "markdown",
   "id": "436230b2",
   "metadata": {},
   "source": [
    "#### Membuat kolom discount yang diberikan dengan melihat selisih dari original price dan selling price."
   ]
  },
  {
   "cell_type": "code",
   "execution_count": 83,
   "id": "561f2297",
   "metadata": {},
   "outputs": [
    {
     "data": {
      "text/html": [
       "<div>\n",
       "<style scoped>\n",
       "    .dataframe tbody tr th:only-of-type {\n",
       "        vertical-align: middle;\n",
       "    }\n",
       "\n",
       "    .dataframe tbody tr th {\n",
       "        vertical-align: top;\n",
       "    }\n",
       "\n",
       "    .dataframe thead th {\n",
       "        text-align: right;\n",
       "    }\n",
       "</style>\n",
       "<table border=\"1\" class=\"dataframe\">\n",
       "  <thead>\n",
       "    <tr style=\"text-align: right;\">\n",
       "      <th></th>\n",
       "      <th>Brand</th>\n",
       "      <th>Model</th>\n",
       "      <th>Color</th>\n",
       "      <th>Memory</th>\n",
       "      <th>Storage</th>\n",
       "      <th>Rating</th>\n",
       "      <th>Selling Price</th>\n",
       "      <th>Original Price</th>\n",
       "      <th>discount</th>\n",
       "    </tr>\n",
       "  </thead>\n",
       "  <tbody>\n",
       "    <tr>\n",
       "      <th>0</th>\n",
       "      <td>OPPO</td>\n",
       "      <td>A53</td>\n",
       "      <td>Moonlight Black</td>\n",
       "      <td>4 GB</td>\n",
       "      <td>64 GB</td>\n",
       "      <td>4.5</td>\n",
       "      <td>11990</td>\n",
       "      <td>15990</td>\n",
       "      <td>25.0</td>\n",
       "    </tr>\n",
       "    <tr>\n",
       "      <th>1</th>\n",
       "      <td>OPPO</td>\n",
       "      <td>A53</td>\n",
       "      <td>Mint Cream</td>\n",
       "      <td>4 GB</td>\n",
       "      <td>64 GB</td>\n",
       "      <td>4.5</td>\n",
       "      <td>11990</td>\n",
       "      <td>15990</td>\n",
       "      <td>25.0</td>\n",
       "    </tr>\n",
       "    <tr>\n",
       "      <th>2</th>\n",
       "      <td>OPPO</td>\n",
       "      <td>A53</td>\n",
       "      <td>Moonlight Black</td>\n",
       "      <td>6 GB</td>\n",
       "      <td>128 GB</td>\n",
       "      <td>4.3</td>\n",
       "      <td>13990</td>\n",
       "      <td>17990</td>\n",
       "      <td>22.2</td>\n",
       "    </tr>\n",
       "    <tr>\n",
       "      <th>3</th>\n",
       "      <td>OPPO</td>\n",
       "      <td>A53</td>\n",
       "      <td>Mint Cream</td>\n",
       "      <td>6 GB</td>\n",
       "      <td>128 GB</td>\n",
       "      <td>4.3</td>\n",
       "      <td>13990</td>\n",
       "      <td>17990</td>\n",
       "      <td>22.2</td>\n",
       "    </tr>\n",
       "    <tr>\n",
       "      <th>4</th>\n",
       "      <td>OPPO</td>\n",
       "      <td>A53</td>\n",
       "      <td>Electric Black</td>\n",
       "      <td>4 GB</td>\n",
       "      <td>64 GB</td>\n",
       "      <td>4.5</td>\n",
       "      <td>11990</td>\n",
       "      <td>15990</td>\n",
       "      <td>25.0</td>\n",
       "    </tr>\n",
       "  </tbody>\n",
       "</table>\n",
       "</div>"
      ],
      "text/plain": [
       "  Brand Model            Color Memory Storage  Rating  Selling Price  \\\n",
       "0  OPPO   A53  Moonlight Black   4 GB   64 GB     4.5          11990   \n",
       "1  OPPO   A53       Mint Cream   4 GB   64 GB     4.5          11990   \n",
       "2  OPPO   A53  Moonlight Black   6 GB  128 GB     4.3          13990   \n",
       "3  OPPO   A53       Mint Cream   6 GB  128 GB     4.3          13990   \n",
       "4  OPPO   A53   Electric Black   4 GB   64 GB     4.5          11990   \n",
       "\n",
       "   Original Price  discount  \n",
       "0           15990      25.0  \n",
       "1           15990      25.0  \n",
       "2           17990      22.2  \n",
       "3           17990      22.2  \n",
       "4           15990      25.0  "
      ]
     },
     "execution_count": 83,
     "metadata": {},
     "output_type": "execute_result"
    }
   ],
   "source": [
    "df['discount'] = ((df['Original Price']-df['Selling Price'])/df['Original Price'])*100\n",
    "df['discount'] = df['discount'].round(1)\n",
    "df.head()"
   ]
  },
  {
   "cell_type": "markdown",
   "id": "60ffbb41",
   "metadata": {},
   "source": [
    "#### Specs Categori"
   ]
  },
  {
   "cell_type": "code",
   "execution_count": 84,
   "id": "093ca3c0",
   "metadata": {},
   "outputs": [
    {
     "data": {
      "text/plain": [
       "array(['64 GB', '128 GB', '32 GB', '256 GB', '16 GB', '8 GB', '4 GB',\n",
       "       '512 GB', '16 MB', '128 MB', '2 MB', '4 MB', '48 MB', '8 MB',\n",
       "       'Expandable Upto 32 GB', 'Expandable Upto 16 GB', '10 MB',\n",
       "       '256 MB', '140 MB', '64 MB', '1 TB', '153 MB', '512 MB', '100 MB',\n",
       "       '129 GB', '130 GB'], dtype=object)"
      ]
     },
     "execution_count": 84,
     "metadata": {},
     "output_type": "execute_result"
    }
   ],
   "source": [
    "#Cek unique value dari kolom storage\n",
    "df['Storage'].unique()"
   ]
  },
  {
   "cell_type": "code",
   "execution_count": 85,
   "id": "c94a4ee2",
   "metadata": {},
   "outputs": [
    {
     "data": {
      "text/plain": [
       "array(['4 GB', '6 GB', '3 GB', '8 GB', '2 GB', '12 GB', '1 GB', '512 MB',\n",
       "       '1.5 GB', '768 MB', '16 GB', '18 GB', '8 MB', '64 MB', '4 MB',\n",
       "       '32 MB', '16 MB', '128 MB', '4GB', '153 MB', '2 MB', '10 MB',\n",
       "       '46 MB', '32 GB', '100 MB', '30 MB'], dtype=object)"
      ]
     },
     "execution_count": 85,
     "metadata": {},
     "output_type": "execute_result"
    }
   ],
   "source": [
    "#Cek unique value dari kolom memory\n",
    "df['Memory'].unique()"
   ]
  },
  {
   "cell_type": "code",
   "execution_count": 86,
   "id": "ec098737",
   "metadata": {},
   "outputs": [],
   "source": [
    "# Menyamakan format pada kolom storage\n",
    "df['Storage'] = df['Storage'].replace({'Expandable Upto 32 GB':'32 GB', 'Expandable Upto 16 GB':'16 GB', '4GB':'4 GB'})"
   ]
  },
  {
   "cell_type": "markdown",
   "id": "866e8343",
   "metadata": {},
   "source": [
    "#### Untuk mempermudah analisi pada spesifikasi mobile phone, diperlukan pengelompokan spesifikasi mobile phone tersebut.\n",
    "#### Maka dari itu dibuat kolom baru bernama specs category untuk mengkategorikan spesifikasi mobile phone. Berikut adalah ketentuannya.\n",
    "1. Jika nilai pada kolom memory atau kolom storage mengandung kata MB (Megabyte) maka dikategorikan low specs\n",
    "2. Jika nilai pada kolom memory mengandung '1 GB','1.5 GB','2 GB','3 GB','4 GB' maka dikategorikan medium specs\n",
    "3. Nilai pada kolom memory yang tidak termasuk dalam kedua poin diatas dikategorikan High Specs"
   ]
  },
  {
   "cell_type": "code",
   "execution_count": 87,
   "id": "0fa8a99f",
   "metadata": {},
   "outputs": [
    {
     "data": {
      "text/html": [
       "<div>\n",
       "<style scoped>\n",
       "    .dataframe tbody tr th:only-of-type {\n",
       "        vertical-align: middle;\n",
       "    }\n",
       "\n",
       "    .dataframe tbody tr th {\n",
       "        vertical-align: top;\n",
       "    }\n",
       "\n",
       "    .dataframe thead th {\n",
       "        text-align: right;\n",
       "    }\n",
       "</style>\n",
       "<table border=\"1\" class=\"dataframe\">\n",
       "  <thead>\n",
       "    <tr style=\"text-align: right;\">\n",
       "      <th></th>\n",
       "      <th>Brand</th>\n",
       "      <th>Model</th>\n",
       "      <th>Color</th>\n",
       "      <th>Memory</th>\n",
       "      <th>Storage</th>\n",
       "      <th>Rating</th>\n",
       "      <th>Selling Price</th>\n",
       "      <th>Original Price</th>\n",
       "      <th>discount</th>\n",
       "      <th>specs_category</th>\n",
       "    </tr>\n",
       "  </thead>\n",
       "  <tbody>\n",
       "    <tr>\n",
       "      <th>0</th>\n",
       "      <td>OPPO</td>\n",
       "      <td>A53</td>\n",
       "      <td>Moonlight Black</td>\n",
       "      <td>4 GB</td>\n",
       "      <td>64 GB</td>\n",
       "      <td>4.5</td>\n",
       "      <td>11990</td>\n",
       "      <td>15990</td>\n",
       "      <td>25.0</td>\n",
       "      <td>Medium Specs</td>\n",
       "    </tr>\n",
       "    <tr>\n",
       "      <th>1</th>\n",
       "      <td>OPPO</td>\n",
       "      <td>A53</td>\n",
       "      <td>Mint Cream</td>\n",
       "      <td>4 GB</td>\n",
       "      <td>64 GB</td>\n",
       "      <td>4.5</td>\n",
       "      <td>11990</td>\n",
       "      <td>15990</td>\n",
       "      <td>25.0</td>\n",
       "      <td>Medium Specs</td>\n",
       "    </tr>\n",
       "    <tr>\n",
       "      <th>2</th>\n",
       "      <td>OPPO</td>\n",
       "      <td>A53</td>\n",
       "      <td>Moonlight Black</td>\n",
       "      <td>6 GB</td>\n",
       "      <td>128 GB</td>\n",
       "      <td>4.3</td>\n",
       "      <td>13990</td>\n",
       "      <td>17990</td>\n",
       "      <td>22.2</td>\n",
       "      <td>High Specs</td>\n",
       "    </tr>\n",
       "    <tr>\n",
       "      <th>3</th>\n",
       "      <td>OPPO</td>\n",
       "      <td>A53</td>\n",
       "      <td>Mint Cream</td>\n",
       "      <td>6 GB</td>\n",
       "      <td>128 GB</td>\n",
       "      <td>4.3</td>\n",
       "      <td>13990</td>\n",
       "      <td>17990</td>\n",
       "      <td>22.2</td>\n",
       "      <td>High Specs</td>\n",
       "    </tr>\n",
       "    <tr>\n",
       "      <th>4</th>\n",
       "      <td>OPPO</td>\n",
       "      <td>A53</td>\n",
       "      <td>Electric Black</td>\n",
       "      <td>4 GB</td>\n",
       "      <td>64 GB</td>\n",
       "      <td>4.5</td>\n",
       "      <td>11990</td>\n",
       "      <td>15990</td>\n",
       "      <td>25.0</td>\n",
       "      <td>Medium Specs</td>\n",
       "    </tr>\n",
       "  </tbody>\n",
       "</table>\n",
       "</div>"
      ],
      "text/plain": [
       "  Brand Model            Color Memory Storage  Rating  Selling Price  \\\n",
       "0  OPPO   A53  Moonlight Black   4 GB   64 GB     4.5          11990   \n",
       "1  OPPO   A53       Mint Cream   4 GB   64 GB     4.5          11990   \n",
       "2  OPPO   A53  Moonlight Black   6 GB  128 GB     4.3          13990   \n",
       "3  OPPO   A53       Mint Cream   6 GB  128 GB     4.3          13990   \n",
       "4  OPPO   A53   Electric Black   4 GB   64 GB     4.5          11990   \n",
       "\n",
       "   Original Price  discount specs_category  \n",
       "0           15990      25.0   Medium Specs  \n",
       "1           15990      25.0   Medium Specs  \n",
       "2           17990      22.2     High Specs  \n",
       "3           17990      22.2     High Specs  \n",
       "4           15990      25.0   Medium Specs  "
      ]
     },
     "execution_count": 87,
     "metadata": {},
     "output_type": "execute_result"
    }
   ],
   "source": [
    "# Membuat fungsi untuk tiap nilai kategori specs\n",
    "mmed = ['1 GB','1.5 GB','2 GB','3 GB','4 GB']\n",
    "def specs_category(row):\n",
    "    if 'MB' in row['Memory'] or 'MB' in row['Storage']:\n",
    "        return 'Low Specs'\n",
    "    elif row['Memory'] in mmed:\n",
    "        return 'Medium Specs'\n",
    "    else:\n",
    "        return 'High Specs'\n",
    "# Membuat kolom baru bernama specs_category dan memasukan fungsi yang telah dibuat\n",
    "df['specs_category'] = df.apply(specs_category, axis=1)\n",
    "df.head()"
   ]
  },
  {
   "cell_type": "markdown",
   "id": "0d0ad754",
   "metadata": {},
   "source": [
    "#### Untuk mempermudah menganalisis harga jual mobile phone, maka dibuat kolom baru yang mengkategorikan harga jual mobile phone. Berikut adalah ketentuannya.\n",
    "1. Kategori expensive adalah kategori dimana tiap specs kategori memiliki harga lebih dari rata-rata harga mobile phone di kategori specs tersebut.\n",
    "2. Kategori Normal adalah kategori dimana tiap specs kategori memiliki harga lebih dari nilai minimal dan kurang dari nilai  rata-rata harga mobile phone di kategori specs tersebut.\n",
    "3. Kategori cheap adalah kategori dimana tiap specs kategori memiliki harga minimal dari kategori specs tersebut."
   ]
  },
  {
   "cell_type": "code",
   "execution_count": 88,
   "id": "f63120ef",
   "metadata": {},
   "outputs": [
    {
     "data": {
      "text/html": [
       "<div>\n",
       "<style scoped>\n",
       "    .dataframe tbody tr th:only-of-type {\n",
       "        vertical-align: middle;\n",
       "    }\n",
       "\n",
       "    .dataframe tbody tr th {\n",
       "        vertical-align: top;\n",
       "    }\n",
       "\n",
       "    .dataframe thead th {\n",
       "        text-align: right;\n",
       "    }\n",
       "</style>\n",
       "<table border=\"1\" class=\"dataframe\">\n",
       "  <thead>\n",
       "    <tr style=\"text-align: right;\">\n",
       "      <th></th>\n",
       "      <th>specs_category</th>\n",
       "      <th>max</th>\n",
       "      <th>mean</th>\n",
       "      <th>min</th>\n",
       "    </tr>\n",
       "  </thead>\n",
       "  <tbody>\n",
       "    <tr>\n",
       "      <th>0</th>\n",
       "      <td>High Specs</td>\n",
       "      <td>189999.0</td>\n",
       "      <td>46617.790831</td>\n",
       "      <td>9290.0</td>\n",
       "    </tr>\n",
       "    <tr>\n",
       "      <th>1</th>\n",
       "      <td>Low Specs</td>\n",
       "      <td>17599.0</td>\n",
       "      <td>3826.045714</td>\n",
       "      <td>1000.0</td>\n",
       "    </tr>\n",
       "    <tr>\n",
       "      <th>2</th>\n",
       "      <td>Medium Specs</td>\n",
       "      <td>144900.0</td>\n",
       "      <td>19885.167114</td>\n",
       "      <td>2799.0</td>\n",
       "    </tr>\n",
       "  </tbody>\n",
       "</table>\n",
       "</div>"
      ],
      "text/plain": [
       "  specs_category       max          mean     min\n",
       "0     High Specs  189999.0  46617.790831  9290.0\n",
       "1      Low Specs   17599.0   3826.045714  1000.0\n",
       "2   Medium Specs  144900.0  19885.167114  2799.0"
      ]
     },
     "execution_count": 88,
     "metadata": {},
     "output_type": "execute_result"
    }
   ],
   "source": [
    "# Melihat nilai rata-rata dan minimal tiap kategori specs \n",
    "pv = pd.pivot_table(df,index=['specs_category'],\n",
    "                    aggfunc={\n",
    "                        'Original Price':['mean','min','max']\n",
    "                    }).reset_index()\n",
    "pv.columns = ['specs_category', 'max', 'mean', 'min']\n",
    "pv"
   ]
  },
  {
   "cell_type": "code",
   "execution_count": 89,
   "id": "9bf23999",
   "metadata": {},
   "outputs": [
    {
     "data": {
      "text/html": [
       "<div>\n",
       "<style scoped>\n",
       "    .dataframe tbody tr th:only-of-type {\n",
       "        vertical-align: middle;\n",
       "    }\n",
       "\n",
       "    .dataframe tbody tr th {\n",
       "        vertical-align: top;\n",
       "    }\n",
       "\n",
       "    .dataframe thead th {\n",
       "        text-align: right;\n",
       "    }\n",
       "</style>\n",
       "<table border=\"1\" class=\"dataframe\">\n",
       "  <thead>\n",
       "    <tr style=\"text-align: right;\">\n",
       "      <th></th>\n",
       "      <th>Brand</th>\n",
       "      <th>Model</th>\n",
       "      <th>Color</th>\n",
       "      <th>Memory</th>\n",
       "      <th>Storage</th>\n",
       "      <th>Rating</th>\n",
       "      <th>Selling Price</th>\n",
       "      <th>Original Price</th>\n",
       "      <th>discount</th>\n",
       "      <th>specs_category</th>\n",
       "      <th>price_category</th>\n",
       "    </tr>\n",
       "  </thead>\n",
       "  <tbody>\n",
       "    <tr>\n",
       "      <th>0</th>\n",
       "      <td>OPPO</td>\n",
       "      <td>A53</td>\n",
       "      <td>Moonlight Black</td>\n",
       "      <td>4 GB</td>\n",
       "      <td>64 GB</td>\n",
       "      <td>4.5</td>\n",
       "      <td>11990</td>\n",
       "      <td>15990</td>\n",
       "      <td>25.0</td>\n",
       "      <td>Medium Specs</td>\n",
       "      <td>Normal</td>\n",
       "    </tr>\n",
       "    <tr>\n",
       "      <th>1</th>\n",
       "      <td>OPPO</td>\n",
       "      <td>A53</td>\n",
       "      <td>Mint Cream</td>\n",
       "      <td>4 GB</td>\n",
       "      <td>64 GB</td>\n",
       "      <td>4.5</td>\n",
       "      <td>11990</td>\n",
       "      <td>15990</td>\n",
       "      <td>25.0</td>\n",
       "      <td>Medium Specs</td>\n",
       "      <td>Normal</td>\n",
       "    </tr>\n",
       "    <tr>\n",
       "      <th>2</th>\n",
       "      <td>OPPO</td>\n",
       "      <td>A53</td>\n",
       "      <td>Moonlight Black</td>\n",
       "      <td>6 GB</td>\n",
       "      <td>128 GB</td>\n",
       "      <td>4.3</td>\n",
       "      <td>13990</td>\n",
       "      <td>17990</td>\n",
       "      <td>22.2</td>\n",
       "      <td>High Specs</td>\n",
       "      <td>Normal</td>\n",
       "    </tr>\n",
       "    <tr>\n",
       "      <th>3</th>\n",
       "      <td>OPPO</td>\n",
       "      <td>A53</td>\n",
       "      <td>Mint Cream</td>\n",
       "      <td>6 GB</td>\n",
       "      <td>128 GB</td>\n",
       "      <td>4.3</td>\n",
       "      <td>13990</td>\n",
       "      <td>17990</td>\n",
       "      <td>22.2</td>\n",
       "      <td>High Specs</td>\n",
       "      <td>Normal</td>\n",
       "    </tr>\n",
       "    <tr>\n",
       "      <th>4</th>\n",
       "      <td>OPPO</td>\n",
       "      <td>A53</td>\n",
       "      <td>Electric Black</td>\n",
       "      <td>4 GB</td>\n",
       "      <td>64 GB</td>\n",
       "      <td>4.5</td>\n",
       "      <td>11990</td>\n",
       "      <td>15990</td>\n",
       "      <td>25.0</td>\n",
       "      <td>Medium Specs</td>\n",
       "      <td>Normal</td>\n",
       "    </tr>\n",
       "  </tbody>\n",
       "</table>\n",
       "</div>"
      ],
      "text/plain": [
       "  Brand Model            Color Memory Storage  Rating  Selling Price  \\\n",
       "0  OPPO   A53  Moonlight Black   4 GB   64 GB     4.5          11990   \n",
       "1  OPPO   A53       Mint Cream   4 GB   64 GB     4.5          11990   \n",
       "2  OPPO   A53  Moonlight Black   6 GB  128 GB     4.3          13990   \n",
       "3  OPPO   A53       Mint Cream   6 GB  128 GB     4.3          13990   \n",
       "4  OPPO   A53   Electric Black   4 GB   64 GB     4.5          11990   \n",
       "\n",
       "   Original Price  discount specs_category price_category  \n",
       "0           15990      25.0   Medium Specs         Normal  \n",
       "1           15990      25.0   Medium Specs         Normal  \n",
       "2           17990      22.2     High Specs         Normal  \n",
       "3           17990      22.2     High Specs         Normal  \n",
       "4           15990      25.0   Medium Specs         Normal  "
      ]
     },
     "execution_count": 89,
     "metadata": {},
     "output_type": "execute_result"
    }
   ],
   "source": [
    "# Membuat fungsi untuk nilai tiap kategori harga\n",
    "def price_category(row):\n",
    "    if (row['specs_category']=='Low Specs' and row['Original Price']>3826) or (row['specs_category']=='Medium Specs' and row['Original Price']>19885) or (row['specs_category']=='High Specs' and row['Original Price']>46617):\n",
    "        return 'Expensive'\n",
    "    elif (row['specs_category']=='Medium Specs' and (row['Original Price']>2799 and row['Original Price']< 19885)) or (row['specs_category']=='High Specs' and (row['Original Price']>2799 and row['Original Price']< 46617)) or  (row['specs_category']=='Low Specs' and (row['Original Price']>1000 and row['Original Price']< 3826)):\n",
    "        return 'Normal'\n",
    "    else:\n",
    "        return 'Cheap'\n",
    "# Membuat kolom baru bernama price_category dan memasukan fungsi yang telah dibuat\n",
    "df['price_category'] = df.apply(price_category, axis=1)\n",
    "df.head()"
   ]
  },
  {
   "cell_type": "code",
   "execution_count": 90,
   "id": "44ace2a2",
   "metadata": {},
   "outputs": [
    {
     "data": {
      "text/html": [
       "<div>\n",
       "<style scoped>\n",
       "    .dataframe tbody tr th:only-of-type {\n",
       "        vertical-align: middle;\n",
       "    }\n",
       "\n",
       "    .dataframe tbody tr th {\n",
       "        vertical-align: top;\n",
       "    }\n",
       "\n",
       "    .dataframe thead th {\n",
       "        text-align: right;\n",
       "    }\n",
       "</style>\n",
       "<table border=\"1\" class=\"dataframe\">\n",
       "  <thead>\n",
       "    <tr style=\"text-align: right;\">\n",
       "      <th></th>\n",
       "      <th>Brand</th>\n",
       "      <th>Model</th>\n",
       "      <th>Color</th>\n",
       "      <th>Memory</th>\n",
       "      <th>Storage</th>\n",
       "      <th>Rating</th>\n",
       "      <th>Selling Price</th>\n",
       "      <th>Original Price</th>\n",
       "      <th>discount</th>\n",
       "      <th>specs_category</th>\n",
       "      <th>price_category</th>\n",
       "    </tr>\n",
       "  </thead>\n",
       "  <tbody>\n",
       "    <tr>\n",
       "      <th>0</th>\n",
       "      <td>OPPO</td>\n",
       "      <td>A53</td>\n",
       "      <td>Moonlight Black</td>\n",
       "      <td>4 GB</td>\n",
       "      <td>64 GB</td>\n",
       "      <td>4.5</td>\n",
       "      <td>11990</td>\n",
       "      <td>15990</td>\n",
       "      <td>25.0</td>\n",
       "      <td>Medium Specs</td>\n",
       "      <td>Normal</td>\n",
       "    </tr>\n",
       "    <tr>\n",
       "      <th>1</th>\n",
       "      <td>OPPO</td>\n",
       "      <td>A53</td>\n",
       "      <td>Mint Cream</td>\n",
       "      <td>4 GB</td>\n",
       "      <td>64 GB</td>\n",
       "      <td>4.5</td>\n",
       "      <td>11990</td>\n",
       "      <td>15990</td>\n",
       "      <td>25.0</td>\n",
       "      <td>Medium Specs</td>\n",
       "      <td>Normal</td>\n",
       "    </tr>\n",
       "    <tr>\n",
       "      <th>2</th>\n",
       "      <td>OPPO</td>\n",
       "      <td>A53</td>\n",
       "      <td>Moonlight Black</td>\n",
       "      <td>6 GB</td>\n",
       "      <td>128 GB</td>\n",
       "      <td>4.3</td>\n",
       "      <td>13990</td>\n",
       "      <td>17990</td>\n",
       "      <td>22.2</td>\n",
       "      <td>High Specs</td>\n",
       "      <td>Normal</td>\n",
       "    </tr>\n",
       "    <tr>\n",
       "      <th>3</th>\n",
       "      <td>OPPO</td>\n",
       "      <td>A53</td>\n",
       "      <td>Mint Cream</td>\n",
       "      <td>6 GB</td>\n",
       "      <td>128 GB</td>\n",
       "      <td>4.3</td>\n",
       "      <td>13990</td>\n",
       "      <td>17990</td>\n",
       "      <td>22.2</td>\n",
       "      <td>High Specs</td>\n",
       "      <td>Normal</td>\n",
       "    </tr>\n",
       "    <tr>\n",
       "      <th>4</th>\n",
       "      <td>OPPO</td>\n",
       "      <td>A53</td>\n",
       "      <td>Electric Black</td>\n",
       "      <td>4 GB</td>\n",
       "      <td>64 GB</td>\n",
       "      <td>4.5</td>\n",
       "      <td>11990</td>\n",
       "      <td>15990</td>\n",
       "      <td>25.0</td>\n",
       "      <td>Medium Specs</td>\n",
       "      <td>Normal</td>\n",
       "    </tr>\n",
       "  </tbody>\n",
       "</table>\n",
       "</div>"
      ],
      "text/plain": [
       "  Brand Model            Color Memory Storage  Rating  Selling Price  \\\n",
       "0  OPPO   A53  Moonlight Black   4 GB   64 GB     4.5          11990   \n",
       "1  OPPO   A53       Mint Cream   4 GB   64 GB     4.5          11990   \n",
       "2  OPPO   A53  Moonlight Black   6 GB  128 GB     4.3          13990   \n",
       "3  OPPO   A53       Mint Cream   6 GB  128 GB     4.3          13990   \n",
       "4  OPPO   A53   Electric Black   4 GB   64 GB     4.5          11990   \n",
       "\n",
       "   Original Price  discount specs_category price_category  \n",
       "0           15990      25.0   Medium Specs         Normal  \n",
       "1           15990      25.0   Medium Specs         Normal  \n",
       "2           17990      22.2     High Specs         Normal  \n",
       "3           17990      22.2     High Specs         Normal  \n",
       "4           15990      25.0   Medium Specs         Normal  "
      ]
     },
     "execution_count": 90,
     "metadata": {},
     "output_type": "execute_result"
    }
   ],
   "source": [
    "df.head()"
   ]
  },
  {
   "cell_type": "code",
   "execution_count": 96,
   "id": "61229b41",
   "metadata": {},
   "outputs": [],
   "source": [
    "df['detail_specs'] = df['Memory']+' + '+df['Storage']"
   ]
  },
  {
   "cell_type": "code",
   "execution_count": 97,
   "id": "38873bae",
   "metadata": {},
   "outputs": [],
   "source": [
    "df.to_excel('Flipkart_clean.xlsx')"
   ]
  },
  {
   "cell_type": "markdown",
   "id": "4dd851e0",
   "metadata": {},
   "source": [
    "#### Melihat top 5 brand dengan total penjualan terbanyak"
   ]
  },
  {
   "cell_type": "code",
   "execution_count": 53,
   "id": "9545883e",
   "metadata": {},
   "outputs": [
    {
     "data": {
      "text/html": [
       "<div>\n",
       "<style scoped>\n",
       "    .dataframe tbody tr th:only-of-type {\n",
       "        vertical-align: middle;\n",
       "    }\n",
       "\n",
       "    .dataframe tbody tr th {\n",
       "        vertical-align: top;\n",
       "    }\n",
       "\n",
       "    .dataframe thead th {\n",
       "        text-align: right;\n",
       "    }\n",
       "</style>\n",
       "<table border=\"1\" class=\"dataframe\">\n",
       "  <thead>\n",
       "    <tr style=\"text-align: right;\">\n",
       "      <th></th>\n",
       "      <th>Brand</th>\n",
       "      <th>Jumlah</th>\n",
       "      <th>Original Price</th>\n",
       "      <th>Rating</th>\n",
       "      <th>Selling Price</th>\n",
       "      <th>discount</th>\n",
       "    </tr>\n",
       "  </thead>\n",
       "  <tbody>\n",
       "    <tr>\n",
       "      <th>13</th>\n",
       "      <td>SAMSUNG</td>\n",
       "      <td>703</td>\n",
       "      <td>19267252</td>\n",
       "      <td>4.209104</td>\n",
       "      <td>17444238</td>\n",
       "      <td>5.9</td>\n",
       "    </tr>\n",
       "    <tr>\n",
       "      <th>1</th>\n",
       "      <td>Apple</td>\n",
       "      <td>375</td>\n",
       "      <td>31264223</td>\n",
       "      <td>4.530933</td>\n",
       "      <td>30129612</td>\n",
       "      <td>4.0</td>\n",
       "    </tr>\n",
       "    <tr>\n",
       "      <th>15</th>\n",
       "      <td>realme</td>\n",
       "      <td>327</td>\n",
       "      <td>5833070</td>\n",
       "      <td>4.386544</td>\n",
       "      <td>5361667</td>\n",
       "      <td>8.7</td>\n",
       "    </tr>\n",
       "    <tr>\n",
       "      <th>11</th>\n",
       "      <td>OPPO</td>\n",
       "      <td>260</td>\n",
       "      <td>5358929</td>\n",
       "      <td>4.298462</td>\n",
       "      <td>4825727</td>\n",
       "      <td>8.5</td>\n",
       "    </tr>\n",
       "    <tr>\n",
       "      <th>10</th>\n",
       "      <td>Nokia</td>\n",
       "      <td>213</td>\n",
       "      <td>2167145</td>\n",
       "      <td>4.035681</td>\n",
       "      <td>2008304</td>\n",
       "      <td>5.0</td>\n",
       "    </tr>\n",
       "  </tbody>\n",
       "</table>\n",
       "</div>"
      ],
      "text/plain": [
       "      Brand  Jumlah  Original Price    Rating  Selling Price  discount\n",
       "13  SAMSUNG     703        19267252  4.209104       17444238       5.9\n",
       "1     Apple     375        31264223  4.530933       30129612       4.0\n",
       "15   realme     327         5833070  4.386544        5361667       8.7\n",
       "11     OPPO     260         5358929  4.298462        4825727       8.5\n",
       "10    Nokia     213         2167145  4.035681        2008304       5.0"
      ]
     },
     "execution_count": 53,
     "metadata": {},
     "output_type": "execute_result"
    }
   ],
   "source": [
    "# Membuat pivot tabel berdasarkan kolom brand\n",
    "pv = pd.pivot_table(df,index=['Brand'],\n",
    "                    aggfunc={\n",
    "                        'Model':'count',\n",
    "                        'Rating':'mean',\n",
    "                        'Original Price':'sum',\n",
    "                        'Selling Price':'sum',\n",
    "                        'discount' : lambda x: round(x.mean(), 1)\n",
    "                    }).reset_index()\n",
    "Brand = pv.rename(columns={'Model':'Jumlah'})\n",
    "top5_brand = (Brand.sort_values('Jumlah', ascending=False)).head(5)\n",
    "top5_brand"
   ]
  },
  {
   "cell_type": "code",
   "execution_count": 54,
   "id": "ac4b78e6",
   "metadata": {},
   "outputs": [
    {
     "data": {
      "image/png": "[encoded data removed]",
      "text/plain": [
       "<Figure size 432x288 with 1 Axes>"
      ]
     },
     "metadata": {},
     "output_type": "display_data"
    }
   ],
   "source": [
    "#Top brand based on quantity\n",
    "plt.pie(data = top5_brand,x='Jumlah', labels='Brand', autopct='%1.1f%%' )\n",
    "plt.show()"
   ]
  },
  {
   "cell_type": "markdown",
   "id": "2deef8f2",
   "metadata": {},
   "source": [
    "#### Samsung merupakan brand yang memiliki penjualan terbanyak. perbedaanya sangat signifikan dibanding dengan brand-brand lainnya. Mari kita lihat bagaimamna top 5 brand ini dari segi original price dan selling price"
   ]
  },
  {
   "cell_type": "code",
   "execution_count": 55,
   "id": "80381a77",
   "metadata": {},
   "outputs": [
    {
     "data": {
      "image/png": "[encoded data removed]",
      "text/plain": [
       "<Figure size 1152x432 with 2 Axes>"
      ]
     },
     "metadata": {
      "needs_background": "light"
     },
     "output_type": "display_data"
    }
   ],
   "source": [
    "# Visualisasi Original price dan selling price\n",
    "_,axes=plt.subplots(nrows=1,ncols=2,figsize=(16,6))\n",
    "sns.barplot(x='Brand',y='Original Price',data=top5_brand.sort_values('Original Price',ascending=False),palette='viridis',ax=axes[0])\n",
    "sns.barplot(x='Brand',y='Selling Price',data=top5_brand.sort_values('Selling Price',ascending=False),palette='viridis',ax=axes[1])\n",
    "\n",
    "plt.show()"
   ]
  },
  {
   "cell_type": "markdown",
   "id": "997442f3",
   "metadata": {},
   "source": [
    "#### Jika dilihat dari harga jual, brand appple lebih mahal dibanding dengan brand lainnya. Perbedaan harga ini terlihat cukup signifikan"
   ]
  },
  {
   "cell_type": "code",
   "execution_count": 70,
   "id": "029eafcb",
   "metadata": {},
   "outputs": [
    {
     "data": {
      "image/png": "[encoded data removed]",
      "text/plain": [
       "<Figure size 432x288 with 1 Axes>"
      ]
     },
     "metadata": {
      "needs_background": "light"
     },
     "output_type": "display_data"
    }
   ],
   "source": [
    "#Top brand based on discount\n",
    "sns.barplot(x='Brand',y='discount',data=top5_brand.sort_values('discount',ascending=False),palette='viridis')\n",
    "plt.show()"
   ]
  },
  {
   "cell_type": "markdown",
   "id": "74f57f9e",
   "metadata": {},
   "source": [
    "#### Brand realme memiliki rata-rata discount paling besar dengan nilai 8%. Tetapi hal ini tidak membuat brand realm memiliki tingkat penjualan yang tinggi. Berbeda dengan brand samsung dan apple,  yang hanya memberikan diskon sekitar 4-5 % tetapi memiliki tingkat penjualan yang tinggi."
   ]
  },
  {
   "cell_type": "code",
   "execution_count": 57,
   "id": "7252a2f1",
   "metadata": {},
   "outputs": [
    {
     "data": {
      "image/png": "[encoded data removed]",
      "text/plain": [
       "<Figure size 432x288 with 1 Axes>"
      ]
     },
     "metadata": {
      "needs_background": "light"
     },
     "output_type": "display_data"
    }
   ],
   "source": [
    "#Top brand based on discount\n",
    "sns.barplot(x='Brand',y='Rating',data=top5_brand.sort_values('Rating',ascending=False),palette='viridis')\n",
    "plt.show()"
   ]
  },
  {
   "cell_type": "markdown",
   "id": "a9b7b50c",
   "metadata": {},
   "source": [
    "#### Jika dilihat dari ratting yang diberikan, untuk top 5 brand paling banyak diminati rata-rata mendapatkan ratting diatas 4. hal ini menandakan kepuasan pelanggan terhadap ke 5 brand ini cukup bagus."
   ]
  },
  {
   "cell_type": "markdown",
   "id": "b04b4c0e",
   "metadata": {},
   "source": [
    "#### Selanjutnya kita akan melihat spesifikasi mobile phone apa yang paling diminati."
   ]
  },
  {
   "cell_type": "code",
   "execution_count": 94,
   "id": "165faff8",
   "metadata": {},
   "outputs": [
    {
     "data": {
      "image/png": "[encoded data removed]",
      "text/plain": [
       "<Figure size 432x288 with 1 Axes>"
      ]
     },
     "metadata": {},
     "output_type": "display_data"
    }
   ],
   "source": [
    "# Membuat pifot tabel berdasarkan kolom specs_category\n",
    "pv = pd.pivot_table(df,index=['specs_category'],\n",
    "                    aggfunc={\n",
    "                        'Model':'count'\n",
    "                    }).reset_index()\n",
    "Specs = pv.rename(columns={'Model':'Jumlah'})\n",
    "plt.pie(data = Specs,x='Jumlah', labels='specs_category', autopct='%1.1f%%' )\n",
    "plt.show()"
   ]
  },
  {
   "cell_type": "code",
   "execution_count": 95,
   "id": "7ff8b0d2",
   "metadata": {},
   "outputs": [
    {
     "data": {
      "text/html": [
       "<div>\n",
       "<style scoped>\n",
       "    .dataframe tbody tr th:only-of-type {\n",
       "        vertical-align: middle;\n",
       "    }\n",
       "\n",
       "    .dataframe tbody tr th {\n",
       "        vertical-align: top;\n",
       "    }\n",
       "\n",
       "    .dataframe thead th {\n",
       "        text-align: right;\n",
       "    }\n",
       "</style>\n",
       "<table border=\"1\" class=\"dataframe\">\n",
       "  <thead>\n",
       "    <tr style=\"text-align: right;\">\n",
       "      <th></th>\n",
       "      <th>specs_category</th>\n",
       "      <th>Jumlah</th>\n",
       "    </tr>\n",
       "  </thead>\n",
       "  <tbody>\n",
       "    <tr>\n",
       "      <th>0</th>\n",
       "      <td>High Specs</td>\n",
       "      <td>1047</td>\n",
       "    </tr>\n",
       "    <tr>\n",
       "      <th>1</th>\n",
       "      <td>Low Specs</td>\n",
       "      <td>175</td>\n",
       "    </tr>\n",
       "    <tr>\n",
       "      <th>2</th>\n",
       "      <td>Medium Specs</td>\n",
       "      <td>1861</td>\n",
       "    </tr>\n",
       "  </tbody>\n",
       "</table>\n",
       "</div>"
      ],
      "text/plain": [
       "  specs_category  Jumlah\n",
       "0     High Specs    1047\n",
       "1      Low Specs     175\n",
       "2   Medium Specs    1861"
      ]
     },
     "execution_count": 95,
     "metadata": {},
     "output_type": "execute_result"
    }
   ],
   "source": [
    "Specs"
   ]
  },
  {
   "cell_type": "markdown",
   "id": "a31f3ecb",
   "metadata": {},
   "source": [
    "#### Dapat dilihat bahwa mobile phone dengan mediem specs paling banyak diminati dengan presentase sebesar 60% dari total penjualan."
   ]
  },
  {
   "cell_type": "code",
   "execution_count": 59,
   "id": "2dbdaa53",
   "metadata": {},
   "outputs": [
    {
     "data": {
      "text/html": [
       "<div>\n",
       "<style scoped>\n",
       "    .dataframe tbody tr th:only-of-type {\n",
       "        vertical-align: middle;\n",
       "    }\n",
       "\n",
       "    .dataframe tbody tr th {\n",
       "        vertical-align: top;\n",
       "    }\n",
       "\n",
       "    .dataframe thead th {\n",
       "        text-align: right;\n",
       "    }\n",
       "</style>\n",
       "<table border=\"1\" class=\"dataframe\">\n",
       "  <thead>\n",
       "    <tr style=\"text-align: right;\">\n",
       "      <th></th>\n",
       "      <th>Memory</th>\n",
       "      <th>Storage</th>\n",
       "      <th>Jumlah</th>\n",
       "      <th>specs_category</th>\n",
       "      <th>Specs_Memory+Storage</th>\n",
       "    </tr>\n",
       "  </thead>\n",
       "  <tbody>\n",
       "    <tr>\n",
       "      <th>46</th>\n",
       "      <td>4 GB</td>\n",
       "      <td>64 GB</td>\n",
       "      <td>540</td>\n",
       "      <td>Medium Specs</td>\n",
       "      <td>4 GB &amp; 64 GB</td>\n",
       "    </tr>\n",
       "    <tr>\n",
       "      <th>35</th>\n",
       "      <td>3 GB</td>\n",
       "      <td>32 GB</td>\n",
       "      <td>353</td>\n",
       "      <td>Medium Specs</td>\n",
       "      <td>3 GB &amp; 32 GB</td>\n",
       "    </tr>\n",
       "    <tr>\n",
       "      <th>68</th>\n",
       "      <td>6 GB</td>\n",
       "      <td>128 GB</td>\n",
       "      <td>326</td>\n",
       "      <td>High Specs</td>\n",
       "      <td>6 GB &amp; 128 GB</td>\n",
       "    </tr>\n",
       "    <tr>\n",
       "      <th>79</th>\n",
       "      <td>8 GB</td>\n",
       "      <td>128 GB</td>\n",
       "      <td>258</td>\n",
       "      <td>High Specs</td>\n",
       "      <td>8 GB &amp; 128 GB</td>\n",
       "    </tr>\n",
       "    <tr>\n",
       "      <th>26</th>\n",
       "      <td>2 GB</td>\n",
       "      <td>16 GB</td>\n",
       "      <td>204</td>\n",
       "      <td>Medium Specs</td>\n",
       "      <td>2 GB &amp; 16 GB</td>\n",
       "    </tr>\n",
       "  </tbody>\n",
       "</table>\n",
       "</div>"
      ],
      "text/plain": [
       "   Memory Storage  Jumlah specs_category Specs_Memory+Storage\n",
       "46   4 GB   64 GB     540   Medium Specs         4 GB & 64 GB\n",
       "35   3 GB   32 GB     353   Medium Specs         3 GB & 32 GB\n",
       "68   6 GB  128 GB     326     High Specs        6 GB & 128 GB\n",
       "79   8 GB  128 GB     258     High Specs        8 GB & 128 GB\n",
       "26   2 GB   16 GB     204   Medium Specs         2 GB & 16 GB"
      ]
     },
     "execution_count": 59,
     "metadata": {},
     "output_type": "execute_result"
    }
   ],
   "source": [
    "# Membuat pivot tabel berdasarlam kolom memory dan storage.\n",
    "pv = pd.pivot_table(df,index=['Memory','Storage'],\n",
    "                    aggfunc={\n",
    "                        'Model':'count',\n",
    "                        'specs_category':'first'\n",
    "                    }).reset_index()\n",
    "Specs = pv.rename(columns={'Model':'Jumlah'})\n",
    "# Mengurutkan baris dari yang terbesar berdasarkan kolom jumlah.\n",
    "top_specs = Specs.sort_values('Jumlah', ascending=False).head(5)\n",
    "#Membuat kolom baru bernama 'Specs_Memory+Storage' untuk mempermudah analisis\n",
    "top_specs['Specs_Memory+Storage'] = top_specs['Memory']+' & '+top_specs['Storage']\n",
    "top_specs"
   ]
  },
  {
   "cell_type": "code",
   "execution_count": 60,
   "id": "2cc562c9",
   "metadata": {},
   "outputs": [
    {
     "data": {
      "image/png": "[encoded data removed]",
      "text/plain": [
       "<Figure size 432x288 with 1 Axes>"
      ]
     },
     "metadata": {
      "needs_background": "light"
     },
     "output_type": "display_data"
    }
   ],
   "source": [
    "# Visualisasi kolom Specs_Memory+Storage\n",
    "sns.barplot(x='Specs_Memory+Storage',y='Jumlah',data=top_specs, palette='viridis')\n",
    "plt.xticks(rotation=45)\n",
    "for index, value in enumerate(top_specs['Jumlah']):\n",
    "    plt.annotate(str(value), xy=(index, value), ha='center', va='bottom')\n",
    "plt.show()"
   ]
  },
  {
   "cell_type": "markdown",
   "id": "a8c12eb2",
   "metadata": {},
   "source": [
    "#### Lebih spesifiknya, mobile phone dengan specs memory 4 GB dan storage 64 GB paling banyak diminati. diikuti oleh mobile phone dengan specs memory 3 GB dan storage 32 GB"
   ]
  },
  {
   "cell_type": "code",
   "execution_count": 61,
   "id": "f3143f3c",
   "metadata": {},
   "outputs": [
    {
     "data": {
      "image/png": "[encoded data removed]",
      "text/plain": [
       "<Figure size 432x288 with 1 Axes>"
      ]
     },
     "metadata": {
      "needs_background": "light"
     },
     "output_type": "display_data"
    }
   ],
   "source": [
    "# Membuat pivot tabel untuk melihat data penjualan berdasarkan warna mobile phone\n",
    "pv = pd.pivot_table(df,index=['Color'],\n",
    "                    aggfunc={\n",
    "                        'Model':'count'\n",
    "                    }).reset_index()\n",
    "Colors = pv.rename(columns={'Model':'Jumlah'})\n",
    "Colors = Colors.sort_values('Jumlah',ascending = False).head(5)\n",
    "sns.barplot(x='Color',y='Jumlah',data=Colors, palette='viridis')\n",
    "for index, value in enumerate(Colors['Jumlah']):\n",
    "    plt.annotate(str(value), xy=(index, value), ha='center', va='bottom')\n",
    "plt.show()"
   ]
  },
  {
   "cell_type": "markdown",
   "id": "ac33feea",
   "metadata": {},
   "source": [
    "#### Mobile phone dengan warna black merupakan barang paling banyak dijual. perbedaanya sangat signifikan dengan warna lainnya."
   ]
  },
  {
   "cell_type": "markdown",
   "id": "fad59fa9",
   "metadata": {},
   "source": [
    "#### Selanjutnya kita akna melihat bagaimana data penjualan berdasarkan kategori harga"
   ]
  },
  {
   "cell_type": "code",
   "execution_count": 62,
   "id": "1e2e2f09",
   "metadata": {},
   "outputs": [
    {
     "data": {
      "image/png": "[encoded data removed]",
      "text/plain": [
       "<Figure size 1152x432 with 2 Axes>"
      ]
     },
     "metadata": {
      "needs_background": "light"
     },
     "output_type": "display_data"
    }
   ],
   "source": [
    "# Membuat pivot tabel berdasarkan price category.\n",
    "pv = pd.pivot_table(df,index=['price_category'],\n",
    "                    aggfunc={\n",
    "                        'Rating': 'mean',\n",
    "                        'discount' : 'mean',\n",
    "                        'Model' : 'count'\n",
    "                    }).reset_index()\n",
    "_,axes=plt.subplots(nrows=1,ncols=2,figsize=(16,6))\n",
    "pv = pv.rename(columns={'Model':'Jumlah'})\n",
    "sns.barplot(x='price_category',y='Rating',data=pv.sort_values('Rating',ascending = False), palette='viridis',ax=axes[1])\n",
    "sns.barplot(x='price_category',y='Jumlah', data=pv.sort_values('Jumlah',ascending=False), palette='viridis',ax=axes[0])\n",
    "plt.show()"
   ]
  },
  {
   "cell_type": "markdown",
   "id": "30f8eb15",
   "metadata": {},
   "source": [
    "#### Jumlah penjualan dengan harga normal lebih banyak dibanding kategori lainnya. Perbandingannyapun sangat jauh dengan kategori lainnya.\n",
    "#### Namun, jika dilihat dari ratting yang diberikan,  semua kategori harga rata-rata diberikan ratting lebih dari 4. Sehingga dapat dipastikan bahwa pembeli tidak keberatan dengan harga yang diberikan danpuas dengan barang yang diterima."
   ]
  },
  {
   "cell_type": "code",
   "execution_count": null,
   "id": "9a1f7da5",
   "metadata": {},
   "outputs": [],
   "source": []
  }
 ],
 "metadata": {
  "kernelspec": {
   "display_name": "Python 3",
   "language": "python",
   "name": "python3"
  },
  "language_info": {
   "codemirror_mode": {
    "name": "ipython",
    "version": 3
   },
   "file_extension": ".py",
   "mimetype": "text/x-python",
   "name": "python",
   "nbconvert_exporter": "python",
   "pygments_lexer": "ipython3",
   "version": "3.8.8"
  }
 },
 "nbformat": 4,
 "nbformat_minor": 5
}
